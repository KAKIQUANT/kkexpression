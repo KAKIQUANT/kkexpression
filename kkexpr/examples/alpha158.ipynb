{
 "cells": [
  {
   "cell_type": "code",
   "execution_count": 1,
   "metadata": {},
   "outputs": [],
   "source": [
    "import sys\n",
    "sys.path.append('../')\n",
    "import pprint\n",
    "from pylab import mpl\n",
    "# 设置显示中文字体\n",
    "mpl.rcParams[\"font.sans-serif\"] = [\"SimHei\"]\n",
    "import warnings\n",
    "warnings.simplefilter(\"ignore\", category=FutureWarning)"
   ]
  },
  {
   "cell_type": "code",
   "execution_count": 2,
   "metadata": {},
   "outputs": [
    {
     "name": "stdout",
     "output_type": "stream",
     "text": [
      "h:\\kkexpression\\kkexpr\\examples\\..\\data\n",
      "['(close-open)/open', '(high-low)/open', '(close-open)/(high-low+1e-12)', '(high-greater(open, close))/open', '(high-greater(open, close))/(high-low+1e-12)', '(less(open, close)-low)/open', '(less(open, close)-low)/(high-low+1e-12)', '(2*close-high-low)/open', '(2*close-high-low)/(high-low+1e-12)', 'open/close', 'shift(open, 1)/close', 'shift(open, 2)/close', 'shift(open, 3)/close', 'shift(open, 4)/close', 'high/close', 'shift(high, 1)/close', 'shift(high, 2)/close', 'shift(high, 3)/close', 'shift(high, 4)/close', 'low/close', 'shift(low, 1)/close', 'shift(low, 2)/close', 'shift(low, 3)/close', 'shift(low, 4)/close', 'close/close', 'shift(close, 1)/close', 'shift(close, 2)/close', 'shift(close, 3)/close', 'shift(close, 4)/close', 'volume/(volume+1e-12)', 'shift(volume, 1)/(volume+1e-12)', 'shift(volume, 2)/(volume+1e-12)', 'shift(volume, 3)/(volume+1e-12)', 'shift(volume, 4)/(volume+1e-12)', 'shift(close, 5)/close', 'shift(close, 10)/close', 'shift(close, 20)/close', 'shift(close, 30)/close', 'shift(close, 60)/close', 'mean(close, 5)/close', 'mean(close, 10)/close', 'mean(close, 20)/close', 'mean(close, 30)/close', 'mean(close, 60)/close', 'std(close, 5)/close', 'std(close, 10)/close', 'std(close, 20)/close', 'std(close, 30)/close', 'std(close, 60)/close', 'ts_max(high, 5)/close', 'ts_max(high, 10)/close', 'ts_max(high, 20)/close', 'ts_max(high, 30)/close', 'ts_max(high, 60)/close', 'ts_min(low, 5)/close', 'ts_min(low, 10)/close', 'ts_min(low, 20)/close', 'ts_min(low, 30)/close', 'ts_min(low, 60)/close', 'quantile(close, 5, 0.8)/close', 'quantile(close, 10, 0.8)/close', 'quantile(close, 20, 0.8)/close', 'quantile(close, 30, 0.8)/close', 'quantile(close, 60, 0.8)/close', 'quantile(close, 5, 0.2)/close', 'quantile(close, 10, 0.2)/close', 'quantile(close, 20, 0.2)/close', 'quantile(close, 30, 0.2)/close', 'quantile(close, 60, 0.2)/close', '(close-ts_min(low, 5))/(ts_max(high, 5)-ts_min(low, 5)+1e-12)', '(close-ts_min(low, 10))/(ts_max(high, 10)-ts_min(low, 10)+1e-12)', '(close-ts_min(low, 20))/(ts_max(high, 20)-ts_min(low, 20)+1e-12)', '(close-ts_min(low, 30))/(ts_max(high, 30)-ts_min(low, 30)+1e-12)', '(close-ts_min(low, 60))/(ts_max(high, 60)-ts_min(low, 60)+1e-12)', 'ts_argmax(high, 5)/5', 'ts_argmax(high, 10)/10', 'ts_argmax(high, 20)/20', 'ts_argmax(high, 30)/30', 'ts_argmax(high, 60)/60', 'ts_argmin(low, 5)/5', 'ts_argmin(low, 10)/10', 'ts_argmin(low, 20)/20', 'ts_argmin(low, 30)/30', 'ts_argmin(low, 60)/60', '(ts_argmax(high, 5)-ts_argmin(low, 5))/5', '(ts_argmax(high, 10)-ts_argmin(low, 10))/10', '(ts_argmax(high, 20)-ts_argmin(low, 20))/20', '(ts_argmax(high, 30)-ts_argmin(low, 30))/30', '(ts_argmax(high, 60)-ts_argmin(low, 60))/60', 'correlation(close, log(volume+1), 5)', 'correlation(close, log(volume+1), 10)', 'correlation(close, log(volume+1), 20)', 'correlation(close, log(volume+1), 30)', 'correlation(close, log(volume+1), 60)', 'correlation(close/shift(close,1), log(volume/shift(volume, 1)+1), 5)', 'correlation(close/shift(close,1), log(volume/shift(volume, 1)+1), 10)', 'correlation(close/shift(close,1), log(volume/shift(volume, 1)+1), 20)', 'correlation(close/shift(close,1), log(volume/shift(volume, 1)+1), 30)', 'correlation(close/shift(close,1), log(volume/shift(volume, 1)+1), 60)', 'mean(close>shift(close, 1), 5)', 'mean(close>shift(close, 1), 10)', 'mean(close>shift(close, 1), 20)', 'mean(close>shift(close, 1), 30)', 'mean(close>shift(close, 1), 60)', 'mean(close<shift(close, 1), 5)', 'mean(close<shift(close, 1), 10)', 'mean(close<shift(close, 1), 20)', 'mean(close<shift(close, 1), 30)', 'mean(close<shift(close, 1), 60)', 'mean(close>shift(close, 1), 5)-mean(close<shift(close, 1), 5)', 'mean(close>shift(close, 1), 10)-mean(close<shift(close, 1), 10)', 'mean(close>shift(close, 1), 20)-mean(close<shift(close, 1), 20)', 'mean(close>shift(close, 1), 30)-mean(close<shift(close, 1), 30)', 'mean(close>shift(close, 1), 60)-mean(close<shift(close, 1), 60)', 'sum(greater(close-shift(close, 1), 0), 5)/(sum(abs(close-shift(close, 1)), 5)+1e-12)', 'sum(greater(close-shift(close, 1), 0), 10)/(sum(abs(close-shift(close, 1)), 10)+1e-12)', 'sum(greater(close-shift(close, 1), 0), 20)/(sum(abs(close-shift(close, 1)), 20)+1e-12)', 'sum(greater(close-shift(close, 1), 0), 30)/(sum(abs(close-shift(close, 1)), 30)+1e-12)', 'sum(greater(close-shift(close, 1), 0), 60)/(sum(abs(close-shift(close, 1)), 60)+1e-12)', 'sum(greater(shift(close, 1)-close, 0), 5)/(sum(abs(close-shift(close, 1)), 5)+1e-12)', 'sum(greater(shift(close, 1)-close, 0), 10)/(sum(abs(close-shift(close, 1)), 10)+1e-12)', 'sum(greater(shift(close, 1)-close, 0), 20)/(sum(abs(close-shift(close, 1)), 20)+1e-12)', 'sum(greater(shift(close, 1)-close, 0), 30)/(sum(abs(close-shift(close, 1)), 30)+1e-12)', 'sum(greater(shift(close, 1)-close, 0), 60)/(sum(abs(close-shift(close, 1)), 60)+1e-12)', '(sum(greater(close-shift(close, 1), 0), 5)-sum(greater(shift(close, 1)-close, 0), 5))/(sum(abs(close-shift(close, 1)), 5)+1e-12)', '(sum(greater(close-shift(close, 1), 0), 10)-sum(greater(shift(close, 1)-close, 0), 10))/(sum(abs(close-shift(close, 1)), 10)+1e-12)', '(sum(greater(close-shift(close, 1), 0), 20)-sum(greater(shift(close, 1)-close, 0), 20))/(sum(abs(close-shift(close, 1)), 20)+1e-12)', '(sum(greater(close-shift(close, 1), 0), 30)-sum(greater(shift(close, 1)-close, 0), 30))/(sum(abs(close-shift(close, 1)), 30)+1e-12)', '(sum(greater(close-shift(close, 1), 0), 60)-sum(greater(shift(close, 1)-close, 0), 60))/(sum(abs(close-shift(close, 1)), 60)+1e-12)', 'mean(volume, 5)/(volume+1e-12)', 'mean(volume, 10)/(volume+1e-12)', 'mean(volume, 20)/(volume+1e-12)', 'mean(volume, 30)/(volume+1e-12)', 'mean(volume, 60)/(volume+1e-12)', 'std(volume, 5)/(volume+1e-12)', 'std(volume, 10)/(volume+1e-12)', 'std(volume, 20)/(volume+1e-12)', 'std(volume, 30)/(volume+1e-12)', 'std(volume, 60)/(volume+1e-12)', 'std(abs(close/shift(close, 1)-1)*volume, 5)/(mean(abs(close/shift(close, 1)-1)*volume, 5)+1e-12)', 'std(abs(close/shift(close, 1)-1)*volume, 10)/(mean(abs(close/shift(close, 1)-1)*volume, 10)+1e-12)', 'std(abs(close/shift(close, 1)-1)*volume, 20)/(mean(abs(close/shift(close, 1)-1)*volume, 20)+1e-12)', 'std(abs(close/shift(close, 1)-1)*volume, 30)/(mean(abs(close/shift(close, 1)-1)*volume, 30)+1e-12)', 'std(abs(close/shift(close, 1)-1)*volume, 60)/(mean(abs(close/shift(close, 1)-1)*volume, 60)+1e-12)', 'sum(greater(volume-shift(volume, 1), 0), 5)/(sum(abs(volume-shift(volume, 1)), 5)+1e-12)', 'sum(greater(volume-shift(volume, 1), 0), 10)/(sum(abs(volume-shift(volume, 1)), 10)+1e-12)', 'sum(greater(volume-shift(volume, 1), 0), 20)/(sum(abs(volume-shift(volume, 1)), 20)+1e-12)', 'sum(greater(volume-shift(volume, 1), 0), 30)/(sum(abs(volume-shift(volume, 1)), 30)+1e-12)', 'sum(greater(volume-shift(volume, 1), 0), 60)/(sum(abs(volume-shift(volume, 1)), 60)+1e-12)', 'sum(greater(shift(volume, 1)-volume, 0), 5)/(sum(abs(volume-shift(volume, 1)), 5)+1e-12)', 'sum(greater(shift(volume, 1)-volume, 0), 10)/(sum(abs(volume-shift(volume, 1)), 10)+1e-12)', 'sum(greater(shift(volume, 1)-volume, 0), 20)/(sum(abs(volume-shift(volume, 1)), 20)+1e-12)', 'sum(greater(shift(volume, 1)-volume, 0), 30)/(sum(abs(volume-shift(volume, 1)), 30)+1e-12)', 'sum(greater(shift(volume, 1)-volume, 0), 60)/(sum(abs(volume-shift(volume, 1)), 60)+1e-12)', '(sum(greater(volume-shift(volume, 1), 0), 5)-sum(greater(shift(volume, 1)-volume, 0), 5))/(sum(abs(volume-shift(volume, 1)), 5)+1e-12)', '(sum(greater(volume-shift(volume, 1), 0), 10)-sum(greater(shift(volume, 1)-volume, 0), 10))/(sum(abs(volume-shift(volume, 1)), 10)+1e-12)', '(sum(greater(volume-shift(volume, 1), 0), 20)-sum(greater(shift(volume, 1)-volume, 0), 20))/(sum(abs(volume-shift(volume, 1)), 20)+1e-12)', '(sum(greater(volume-shift(volume, 1), 0), 30)-sum(greater(shift(volume, 1)-volume, 0), 30))/(sum(abs(volume-shift(volume, 1)), 30)+1e-12)', '(sum(greater(volume-shift(volume, 1), 0), 60)-sum(greater(shift(volume, 1)-volume, 0), 60))/(sum(abs(volume-shift(volume, 1)), 60)+1e-12)', 'shift(close, -20)/close - 1'] ['KMID', 'KLEN', 'KMID2', 'KUP', 'KUP2', 'KLOW', 'KLOW2', 'KSFT', 'KSFT2', 'OPEN0', 'OPEN1', 'OPEN2', 'OPEN3', 'OPEN4', 'HIGH0', 'HIGH1', 'HIGH2', 'HIGH3', 'HIGH4', 'LOW0', 'LOW1', 'LOW2', 'LOW3', 'LOW4', 'CLOSE0', 'CLOSE1', 'CLOSE2', 'CLOSE3', 'CLOSE4', 'VOLUME0', 'VOLUME1', 'VOLUME2', 'VOLUME3', 'VOLUME4', 'ROC5', 'ROC10', 'ROC20', 'ROC30', 'ROC60', 'MA5', 'MA10', 'MA20', 'MA30', 'MA60', 'STD5', 'STD10', 'STD20', 'STD30', 'STD60', 'MAX5', 'MAX10', 'MAX20', 'MAX30', 'MAX60', 'MIN5', 'MIN10', 'MIN20', 'MIN30', 'MIN60', 'QTLU5', 'QTLU10', 'QTLU20', 'QTLU30', 'QTLU60', 'QTLD5', 'QTLD10', 'QTLD20', 'QTLD30', 'QTLD60', 'RSV5', 'RSV10', 'RSV20', 'RSV30', 'RSV60', 'IMAX5', 'IMAX10', 'IMAX20', 'IMAX30', 'IMAX60', 'IMIN5', 'IMIN10', 'IMIN20', 'IMIN30', 'IMIN60', 'IMXD5', 'IMXD10', 'IMXD20', 'IMXD30', 'IMXD60', 'CORR5', 'CORR10', 'CORR20', 'CORR30', 'CORR60', 'CORD5', 'CORD10', 'CORD20', 'CORD30', 'CORD60', 'CNTP5', 'CNTP10', 'CNTP20', 'CNTP30', 'CNTP60', 'CNTN5', 'CNTN10', 'CNTN20', 'CNTN30', 'CNTN60', 'CNTD5', 'CNTD10', 'CNTD20', 'CNTD30', 'CNTD60', 'SUMP5', 'SUMP10', 'SUMP20', 'SUMP30', 'SUMP60', 'SUMN5', 'SUMN10', 'SUMN20', 'SUMN30', 'SUMN60', 'SUMD5', 'SUMD10', 'SUMD20', 'SUMD30', 'SUMD60', 'VMA5', 'VMA10', 'VMA20', 'VMA30', 'VMA60', 'VSTD5', 'VSTD10', 'VSTD20', 'VSTD30', 'VSTD60', 'WVMA5', 'WVMA10', 'WVMA20', 'WVMA30', 'WVMA60', 'VSUMP5', 'VSUMP10', 'VSUMP20', 'VSUMP30', 'VSUMP60', 'VSUMN5', 'VSUMN10', 'VSUMN20', 'VSUMN30', 'VSUMN60', 'VSUMD5', 'VSUMD10', 'VSUMD20', 'VSUMD30', 'VSUMD60', 'label']\n",
      "160\n"
     ]
    }
   ],
   "source": [
    "from kkexpr.factor.alpha158 import Alpha158\n",
    "from kkexpr.dataloader import CSVDataloader\n",
    "import config\n",
    "\n",
    "fields, names = Alpha158().get_all_features_names()\n",
    "pprint(fields,names)\n",
    "pprint(len(fields))\n",
    "symbols = [\n",
    "        # 'CL', # 原油\n",
    "        # '^TNX', # 美十年期国债\n",
    "        # 'GOLD', # 黄金\n",
    "        # '^NDX', #纳指100\n",
    "        '000300.SH',  # 沪深300\n",
    "        '000905.SH',  # 中证500\n",
    "        '399006.SZ',  # 创业板指数\n",
    "        # '000012.SH',  # 国债指数\n",
    "        # '000832.SH',  # 中证转债指数\n",
    "        # 'HSI',  # 香港恒生\n",
    "        # 'N225',  # 日经225\n",
    "        # 'GDAXI'  # 德国DAX指数\n",
    "    ]\n"
   ]
  },
  {
   "cell_type": "code",
   "execution_count": 3,
   "metadata": {},
   "outputs": [
    {
     "name": "stderr",
     "output_type": "stream",
     "text": [
      "160it [01:22,  1.95it/s]\n"
     ]
    },
    {
     "name": "stdout",
     "output_type": "stream",
     "text": [
      "                    open          high           low         close  \\\n",
      "date                                                                 \n",
      "2010-01-04     29.261365     29.399708     29.037888     29.389067   \n",
      "2010-01-04   1882.689941   1890.020020   1881.630005   1886.699951   \n",
      "2010-01-04   3592.468000   3597.748000   3535.229000   3535.229000   \n",
      "2010-01-04   4508.930000   4542.710000   4487.365000   4510.527000   \n",
      "2010-01-04      3.859000      3.859000      3.808000      3.841000   \n",
      "...                  ...           ...           ...           ...   \n",
      "2024-06-18     16.090000     16.500000     16.070000     16.410000   \n",
      "2024-06-18      4.287000      4.289000      4.207000      4.217000   \n",
      "2024-06-18  38433.480000  38519.020000  38332.890000  38482.110000   \n",
      "2024-06-18  18073.440000  18214.200000  18073.240000  18131.970000   \n",
      "2024-06-19    396.750000    397.290000    395.170000    395.190000   \n",
      "\n",
      "                  volume        amount      KMID      KLEN     KMID2  \\\n",
      "date                                                                   \n",
      "2010-01-04  4.874200e+06           NaN  0.004364  0.012365  0.352943   \n",
      "2010-01-04  1.931380e+09           NaN  0.002130  0.004456  0.477950   \n",
      "2010-01-04  6.610108e+07           NaN -0.015933  0.017403 -0.915546   \n",
      "2010-01-04  5.125673e+07           NaN  0.000354  0.012275  0.028855   \n",
      "2010-01-04  0.000000e+00           NaN -0.004664  0.013216 -0.352940   \n",
      "...                  ...           ...       ...       ...       ...   \n",
      "2024-06-18  1.939910e+07           NaN  0.019888  0.026725  0.744185   \n",
      "2024-06-18  0.000000e+00           NaN -0.016328  0.019128 -0.853658   \n",
      "2024-06-18  9.708200e+05           NaN  0.001265  0.004843  0.261269   \n",
      "2024-06-18  5.084014e+04           NaN  0.003238  0.007799  0.415224   \n",
      "2024-06-19  3.679976e+07  4.877948e+10 -0.003932  0.005343 -0.735849   \n",
      "\n",
      "                  KUP  ...   VSUMN20   VSUMN30   VSUMN60    VSUMD5   VSUMD10  \\\n",
      "date                   ...                                                     \n",
      "2010-01-04  -3.177989  ...       NaN       NaN       NaN       NaN       NaN   \n",
      "2010-01-04   0.938907  ...       NaN       NaN       NaN       NaN       NaN   \n",
      "2010-01-04   0.967422  ...       NaN       NaN       NaN       NaN       NaN   \n",
      "2010-01-04   0.980362  ...       NaN       NaN       NaN       NaN       NaN   \n",
      "2010-01-04 -30.697849  ...       NaN       NaN       NaN       NaN       NaN   \n",
      "...               ...  ...       ...       ...       ...       ...       ...   \n",
      "2024-06-18   0.752766  ...  0.495182  0.483259  0.502455  0.151801 -0.180097   \n",
      "2024-06-18  -0.004899  ...  0.000000  0.000000  0.000000  0.000000  0.000000   \n",
      "2024-06-18   1.002116  ...  0.511938  0.515710  0.527450  0.030310 -0.130262   \n",
      "2024-06-18   1.007551  ...  0.518904  0.530808       NaN -0.172266 -0.267455   \n",
      "2024-06-19   0.990556  ...  0.509934  0.517779  0.479350 -1.000000 -0.566196   \n",
      "\n",
      "             VSUMD20   VSUMD30   VSUMD60     label     symbol  \n",
      "date                                                           \n",
      "2010-01-04       NaN       NaN       NaN -0.016262         CL  \n",
      "2010-01-04       NaN       NaN       NaN -0.058186       ^NDX  \n",
      "2010-01-04       NaN       NaN       NaN -0.108203  000300.SH  \n",
      "2010-01-04       NaN       NaN       NaN -0.039721  000905.SH  \n",
      "2010-01-04       NaN       NaN       NaN -0.053632       ^TNX  \n",
      "...              ...       ...       ...       ...        ...  \n",
      "2024-06-18  0.009635  0.033482 -0.004910       NaN       GOLD  \n",
      "2024-06-18  0.000000  0.000000  0.000000       NaN       ^TNX  \n",
      "2024-06-18 -0.023877 -0.031421 -0.054901       NaN       N225  \n",
      "2024-06-18 -0.037809 -0.061615       NaN       NaN      GDAXI  \n",
      "2024-06-19 -0.019869 -0.035559  0.041299       NaN  000832.SH  \n",
      "\n",
      "[42111 rows x 167 columns]\n"
     ]
    }
   ],
   "source": [
    "df = CSVDataloader(config.DATA_DIR_QUOTES,symbols).load(fields,names)\n",
    "print(df)\n",
    "df.to_csv('因子结果.csv')"
   ]
  },
  {
   "cell_type": "code",
   "execution_count": 5,
   "metadata": {},
   "outputs": [
    {
     "data": {
      "application/vnd.jupyter.widget-view+json": {
       "model_id": "b6347d50e4534b399d4b056cd751272a",
       "version_major": 2,
       "version_minor": 0
      },
      "text/plain": [
       "Box(children=(HTML(value='<div id=\"ifr-pyg-00061bc25e49ffb4NpESehcD1KQW7zqs\" style=\"height: auto\">\\n    <head>…"
      ]
     },
     "metadata": {},
     "output_type": "display_data"
    },
    {
     "data": {
      "text/html": [],
      "text/plain": [
       "<IPython.core.display.HTML object>"
      ]
     },
     "metadata": {},
     "output_type": "display_data"
    },
    {
     "name": "stderr",
     "output_type": "stream",
     "text": [
      "ERROR: kanaries_api_key is not valid.\n",
      "Please set kanaries_api_key first.\n",
      "If you are not kanaries user, please register it from 'https://kanaries.net/home/access' \n",
      "Then refer 'https://github.com/Kanaries/pygwalker/wiki/How-to-get-api-key-of-kanaries%3F' to set kanaries_api_key. \n",
      "\n"
     ]
    }
   ],
   "source": [
    "import pygwalker as pyg\n",
    "walker = pyg.walk(df)"
   ]
  },
  {
   "cell_type": "code",
   "execution_count": null,
   "metadata": {},
   "outputs": [],
   "source": []
  }
 ],
 "metadata": {
  "kernelspec": {
   "display_name": "pytorch",
   "language": "python",
   "name": "python3"
  },
  "language_info": {
   "codemirror_mode": {
    "name": "ipython",
    "version": 3
   },
   "file_extension": ".py",
   "mimetype": "text/x-python",
   "name": "python",
   "nbconvert_exporter": "python",
   "pygments_lexer": "ipython3",
   "version": "3.10.11"
  }
 },
 "nbformat": 4,
 "nbformat_minor": 2
}
